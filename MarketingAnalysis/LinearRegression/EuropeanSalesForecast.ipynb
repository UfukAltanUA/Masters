{
 "cells": [
  {
   "cell_type": "code",
   "execution_count": 1,
   "metadata": {},
   "outputs": [],
   "source": [
    "import pandas as pd\n",
    "import numpy as np\n",
    "import matplotlib.pyplot as plt\n",
    "import seaborn as sns\n",
    "import statsmodels.api as sm\n",
    "from statsmodels.formula.api import ols"
   ]
  },
  {
   "cell_type": "code",
   "execution_count": 2,
   "metadata": {},
   "outputs": [
    {
     "data": {
      "text/html": [
       "<div>\n",
       "<style scoped>\n",
       "    .dataframe tbody tr th:only-of-type {\n",
       "        vertical-align: middle;\n",
       "    }\n",
       "\n",
       "    .dataframe tbody tr th {\n",
       "        vertical-align: top;\n",
       "    }\n",
       "\n",
       "    .dataframe thead th {\n",
       "        text-align: right;\n",
       "    }\n",
       "</style>\n",
       "<table border=\"1\" class=\"dataframe\">\n",
       "  <thead>\n",
       "    <tr style=\"text-align: right;\">\n",
       "      <th></th>\n",
       "      <th>Country</th>\n",
       "      <th>Population</th>\n",
       "      <th>GDPperHead</th>\n",
       "      <th>UnemploymentRate</th>\n",
       "      <th>EducationSpending</th>\n",
       "      <th>SalesPerCapita</th>\n",
       "      <th>ComputerSales</th>\n",
       "    </tr>\n",
       "  </thead>\n",
       "  <tbody>\n",
       "    <tr>\n",
       "      <th>0</th>\n",
       "      <td>Austria</td>\n",
       "      <td>8.4</td>\n",
       "      <td>49.60</td>\n",
       "      <td>4.2</td>\n",
       "      <td>5.8</td>\n",
       "      <td>112</td>\n",
       "      <td>941</td>\n",
       "    </tr>\n",
       "    <tr>\n",
       "      <th>1</th>\n",
       "      <td>Belgium</td>\n",
       "      <td>10.5</td>\n",
       "      <td>47.09</td>\n",
       "      <td>8.1</td>\n",
       "      <td>5.9</td>\n",
       "      <td>160</td>\n",
       "      <td>1682</td>\n",
       "    </tr>\n",
       "    <tr>\n",
       "      <th>2</th>\n",
       "      <td>Bulgaria</td>\n",
       "      <td>7.6</td>\n",
       "      <td>6.55</td>\n",
       "      <td>13.5</td>\n",
       "      <td>3.5</td>\n",
       "      <td>20</td>\n",
       "      <td>154</td>\n",
       "    </tr>\n",
       "    <tr>\n",
       "      <th>3</th>\n",
       "      <td>Czech Rep.</td>\n",
       "      <td>10.2</td>\n",
       "      <td>20.67</td>\n",
       "      <td>6.6</td>\n",
       "      <td>4.4</td>\n",
       "      <td>101</td>\n",
       "      <td>1029</td>\n",
       "    </tr>\n",
       "    <tr>\n",
       "      <th>4</th>\n",
       "      <td>Denmark</td>\n",
       "      <td>5.5</td>\n",
       "      <td>62.12</td>\n",
       "      <td>5.2</td>\n",
       "      <td>8.4</td>\n",
       "      <td>170</td>\n",
       "      <td>935</td>\n",
       "    </tr>\n",
       "    <tr>\n",
       "      <th>5</th>\n",
       "      <td>Finland</td>\n",
       "      <td>5.3</td>\n",
       "      <td>51.32</td>\n",
       "      <td>9.9</td>\n",
       "      <td>6.3</td>\n",
       "      <td>372</td>\n",
       "      <td>1971</td>\n",
       "    </tr>\n",
       "    <tr>\n",
       "      <th>6</th>\n",
       "      <td>France</td>\n",
       "      <td>61.9</td>\n",
       "      <td>44.51</td>\n",
       "      <td>10.0</td>\n",
       "      <td>5.7</td>\n",
       "      <td>96</td>\n",
       "      <td>5929</td>\n",
       "    </tr>\n",
       "    <tr>\n",
       "      <th>7</th>\n",
       "      <td>Germany</td>\n",
       "      <td>82.5</td>\n",
       "      <td>44.45</td>\n",
       "      <td>9.1</td>\n",
       "      <td>4.6</td>\n",
       "      <td>83</td>\n",
       "      <td>6824</td>\n",
       "    </tr>\n",
       "    <tr>\n",
       "      <th>8</th>\n",
       "      <td>Greece</td>\n",
       "      <td>11.2</td>\n",
       "      <td>31.67</td>\n",
       "      <td>9.9</td>\n",
       "      <td>3.9</td>\n",
       "      <td>73</td>\n",
       "      <td>813</td>\n",
       "    </tr>\n",
       "    <tr>\n",
       "      <th>9</th>\n",
       "      <td>Hungary</td>\n",
       "      <td>10.0</td>\n",
       "      <td>15.41</td>\n",
       "      <td>7.3</td>\n",
       "      <td>5.1</td>\n",
       "      <td>45</td>\n",
       "      <td>449</td>\n",
       "    </tr>\n",
       "    <tr>\n",
       "      <th>10</th>\n",
       "      <td>Ireland</td>\n",
       "      <td>4.4</td>\n",
       "      <td>60.46</td>\n",
       "      <td>6.3</td>\n",
       "      <td>4.3</td>\n",
       "      <td>131</td>\n",
       "      <td>577</td>\n",
       "    </tr>\n",
       "    <tr>\n",
       "      <th>11</th>\n",
       "      <td>Italy</td>\n",
       "      <td>58.9</td>\n",
       "      <td>38.49</td>\n",
       "      <td>9.3</td>\n",
       "      <td>5.0</td>\n",
       "      <td>66</td>\n",
       "      <td>3858</td>\n",
       "    </tr>\n",
       "    <tr>\n",
       "      <th>12</th>\n",
       "      <td>Netherlands</td>\n",
       "      <td>16.5</td>\n",
       "      <td>52.96</td>\n",
       "      <td>4.4</td>\n",
       "      <td>5.0</td>\n",
       "      <td>131</td>\n",
       "      <td>2169</td>\n",
       "    </tr>\n",
       "    <tr>\n",
       "      <th>13</th>\n",
       "      <td>Poland</td>\n",
       "      <td>38.0</td>\n",
       "      <td>13.85</td>\n",
       "      <td>14.4</td>\n",
       "      <td>5.6</td>\n",
       "      <td>75</td>\n",
       "      <td>2847</td>\n",
       "    </tr>\n",
       "    <tr>\n",
       "      <th>14</th>\n",
       "      <td>Portugal</td>\n",
       "      <td>10.7</td>\n",
       "      <td>22.92</td>\n",
       "      <td>6.3</td>\n",
       "      <td>5.9</td>\n",
       "      <td>68</td>\n",
       "      <td>729</td>\n",
       "    </tr>\n",
       "    <tr>\n",
       "      <th>15</th>\n",
       "      <td>Romania</td>\n",
       "      <td>21.3</td>\n",
       "      <td>9.30</td>\n",
       "      <td>7.0</td>\n",
       "      <td>3.3</td>\n",
       "      <td>32</td>\n",
       "      <td>687</td>\n",
       "    </tr>\n",
       "    <tr>\n",
       "      <th>16</th>\n",
       "      <td>Spain</td>\n",
       "      <td>44.8</td>\n",
       "      <td>35.22</td>\n",
       "      <td>14.2</td>\n",
       "      <td>4.4</td>\n",
       "      <td>106</td>\n",
       "      <td>4746</td>\n",
       "    </tr>\n",
       "    <tr>\n",
       "      <th>17</th>\n",
       "      <td>Switzerland</td>\n",
       "      <td>7.5</td>\n",
       "      <td>64.43</td>\n",
       "      <td>3.6</td>\n",
       "      <td>5.6</td>\n",
       "      <td>151</td>\n",
       "      <td>1130</td>\n",
       "    </tr>\n",
       "    <tr>\n",
       "      <th>18</th>\n",
       "      <td>Sweden</td>\n",
       "      <td>9.2</td>\n",
       "      <td>51.95</td>\n",
       "      <td>6.3</td>\n",
       "      <td>7.6</td>\n",
       "      <td>230</td>\n",
       "      <td>2113</td>\n",
       "    </tr>\n",
       "    <tr>\n",
       "      <th>19</th>\n",
       "      <td>Turkey</td>\n",
       "      <td>75.8</td>\n",
       "      <td>9.94</td>\n",
       "      <td>8.6</td>\n",
       "      <td>3.7</td>\n",
       "      <td>38</td>\n",
       "      <td>2879</td>\n",
       "    </tr>\n",
       "    <tr>\n",
       "      <th>20</th>\n",
       "      <td>UK</td>\n",
       "      <td>61.0</td>\n",
       "      <td>43.54</td>\n",
       "      <td>5.9</td>\n",
       "      <td>4.8</td>\n",
       "      <td>162</td>\n",
       "      <td>9887</td>\n",
       "    </tr>\n",
       "  </tbody>\n",
       "</table>\n",
       "</div>"
      ],
      "text/plain": [
       "        Country  Population  GDPperHead  UnemploymentRate  EducationSpending  \\\n",
       "0       Austria         8.4       49.60               4.2                5.8   \n",
       "1       Belgium        10.5       47.09               8.1                5.9   \n",
       "2      Bulgaria         7.6        6.55              13.5                3.5   \n",
       "3    Czech Rep.        10.2       20.67               6.6                4.4   \n",
       "4       Denmark         5.5       62.12               5.2                8.4   \n",
       "5       Finland         5.3       51.32               9.9                6.3   \n",
       "6        France        61.9       44.51              10.0                5.7   \n",
       "7       Germany        82.5       44.45               9.1                4.6   \n",
       "8        Greece        11.2       31.67               9.9                3.9   \n",
       "9       Hungary        10.0       15.41               7.3                5.1   \n",
       "10      Ireland         4.4       60.46               6.3                4.3   \n",
       "11        Italy        58.9       38.49               9.3                5.0   \n",
       "12  Netherlands        16.5       52.96               4.4                5.0   \n",
       "13       Poland        38.0       13.85              14.4                5.6   \n",
       "14     Portugal        10.7       22.92               6.3                5.9   \n",
       "15      Romania        21.3        9.30               7.0                3.3   \n",
       "16        Spain        44.8       35.22              14.2                4.4   \n",
       "17  Switzerland         7.5       64.43               3.6                5.6   \n",
       "18       Sweden         9.2       51.95               6.3                7.6   \n",
       "19       Turkey        75.8        9.94               8.6                3.7   \n",
       "20           UK        61.0       43.54               5.9                4.8   \n",
       "\n",
       "    SalesPerCapita  ComputerSales  \n",
       "0              112            941  \n",
       "1              160           1682  \n",
       "2               20            154  \n",
       "3              101           1029  \n",
       "4              170            935  \n",
       "5              372           1971  \n",
       "6               96           5929  \n",
       "7               83           6824  \n",
       "8               73            813  \n",
       "9               45            449  \n",
       "10             131            577  \n",
       "11              66           3858  \n",
       "12             131           2169  \n",
       "13              75           2847  \n",
       "14              68            729  \n",
       "15              32            687  \n",
       "16             106           4746  \n",
       "17             151           1130  \n",
       "18             230           2113  \n",
       "19              38           2879  \n",
       "20             162           9887  "
      ]
     },
     "execution_count": 2,
     "metadata": {},
     "output_type": "execute_result"
    }
   ],
   "source": [
    "path = 'C:\\\\Users\\\\Ufuk Altan\\\\Desktop\\\\'\n",
    "df = pd.read_csv(path + 'EuropeanSales.csv')\n",
    "df"
   ]
  },
  {
   "cell_type": "code",
   "execution_count": 3,
   "metadata": {},
   "outputs": [
    {
     "data": {
      "text/plain": [
       "Population           1.045463\n",
       "GDPperHead          -0.294859\n",
       "UnemploymentRate     0.720345\n",
       "EducationSpending    0.850790\n",
       "SalesPerCapita       1.812854\n",
       "ComputerSales        1.704270\n",
       "dtype: float64"
      ]
     },
     "execution_count": 3,
     "metadata": {},
     "output_type": "execute_result"
    }
   ],
   "source": [
    "df.skew()"
   ]
  },
  {
   "cell_type": "code",
   "execution_count": 4,
   "metadata": {},
   "outputs": [],
   "source": [
    "def percentage_error(dataframe,pred, true_value):\n",
    "    \n",
    "    '''\n",
    "    dataframe: Pass in pandas dataframe variable\n",
    "    pred = dataframe['Predictions'] #model.predict(x_test).reshape()\n",
    "    true_value = dataframe['True Values'] #y_test\n",
    "    \n",
    "    '''\n",
    "    \n",
    "    difference = dataframe[true_value] - dataframe[pred]\n",
    "    \n",
    "    dataframe['Error(%)']= np.absolute(difference/dataframe[true_value]*100)\n",
    "    \n",
    "    print('median \\t {}'.format(dataframe['Error(%)'].median()))    \n",
    "    print(dataframe['Error(%)'].describe())\n",
    "    \n",
    "def adjusted_r_squared(r2, data):\n",
    "    \n",
    "    x = (1-r2)*(data.shape[0]-1)/(data.shape[0]-data.shape[1]-1) \n",
    "    \n",
    "    return 1-x"
   ]
  },
  {
   "cell_type": "code",
   "execution_count": 5,
   "metadata": {},
   "outputs": [
    {
     "data": {
      "image/png": "[encoded data removed]",
      "text/plain": [
       "<Figure size 1008x504 with 2 Axes>"
      ]
     },
     "metadata": {
      "needs_background": "light"
     },
     "output_type": "display_data"
    }
   ],
   "source": [
    "plt.figure(figsize = (14,7))\n",
    "\n",
    "plt.subplot(1,2,1)\n",
    "sns.barplot(data = df.sort_values(['ComputerSales'], ascending = False), x = 'Country', y = 'ComputerSales')\n",
    "plt.xticks(rotation = 90);\n",
    "\n",
    "plt.subplot(1,2,2)\n",
    "sns.barplot(data = df.sort_values(['SalesPerCapita'], ascending = False), x = 'Country', y = 'SalesPerCapita')\n",
    "plt.xticks(rotation = 90);"
   ]
  },
  {
   "cell_type": "code",
   "execution_count": 6,
   "metadata": {},
   "outputs": [],
   "source": [
    "# Correlation Check"
   ]
  },
  {
   "cell_type": "code",
   "execution_count": 7,
   "metadata": {},
   "outputs": [
    {
     "data": {
      "text/plain": [
       "<AxesSubplot:>"
      ]
     },
     "execution_count": 7,
     "metadata": {},
     "output_type": "execute_result"
    },
    {
     "data": {
      "image/png": "[encoded data removed]",
      "text/plain": [
       "<Figure size 720x288 with 2 Axes>"
      ]
     },
     "metadata": {
      "needs_background": "light"
     },
     "output_type": "display_data"
    }
   ],
   "source": [
    "plt.figure(figsize = (10,4))\n",
    "sns.heatmap(df.corr(), annot = True, cmap ='Blues')"
   ]
  },
  {
   "cell_type": "code",
   "execution_count": 8,
   "metadata": {},
   "outputs": [
    {
     "data": {
      "text/plain": [
       "((0.8079711173057383, 9.425963676921546e-06),\n",
       " (0.6622536261175196, 0.0010728122995484484))"
      ]
     },
     "execution_count": 8,
     "metadata": {},
     "output_type": "execute_result"
    }
   ],
   "source": [
    "from scipy.stats import pearsonr\n",
    "pearsonr(df['Population'], df['ComputerSales']), pearsonr(df['SalesPerCapita'], df['GDPperHead'])"
   ]
  },
  {
   "cell_type": "code",
   "execution_count": 9,
   "metadata": {},
   "outputs": [],
   "source": [
    "#Normality and Homoscedasticity Check"
   ]
  },
  {
   "cell_type": "code",
   "execution_count": 10,
   "metadata": {
    "scrolled": false
   },
   "outputs": [
    {
     "data": {
      "text/plain": [
       "<AxesSubplot:xlabel='EducationSpending'>"
      ]
     },
     "execution_count": 10,
     "metadata": {},
     "output_type": "execute_result"
    },
    {
     "data": {
      "image/png": "[encoded data removed]",
      "text/plain": [
       "<Figure size 864x864 with 4 Axes>"
      ]
     },
     "metadata": {
      "needs_background": "light"
     },
     "output_type": "display_data"
    }
   ],
   "source": [
    "plt.figure(figsize = (12,12))\n",
    "\n",
    "plt.subplot(2,2,1)\n",
    "sns.distplot(df['Population'])\n",
    "\n",
    "plt.subplot(2,2,2)\n",
    "sns.distplot(df['GDPperHead'], color = 'purple')\n",
    "\n",
    "plt.subplot(2,2,3)\n",
    "sns.distplot(df['UnemploymentRate'], color = 'r')\n",
    "\n",
    "plt.subplot(2,2,4)\n",
    "sns.distplot(df['EducationSpending'], color = 'g')"
   ]
  },
  {
   "cell_type": "code",
   "execution_count": 11,
   "metadata": {},
   "outputs": [],
   "source": [
    "#Multicollinearity Check"
   ]
  },
  {
   "cell_type": "code",
   "execution_count": 12,
   "metadata": {},
   "outputs": [
    {
     "data": {
      "text/html": [
       "<div>\n",
       "<style scoped>\n",
       "    .dataframe tbody tr th:only-of-type {\n",
       "        vertical-align: middle;\n",
       "    }\n",
       "\n",
       "    .dataframe tbody tr th {\n",
       "        vertical-align: top;\n",
       "    }\n",
       "\n",
       "    .dataframe thead th {\n",
       "        text-align: right;\n",
       "    }\n",
       "</style>\n",
       "<table border=\"1\" class=\"dataframe\">\n",
       "  <thead>\n",
       "    <tr style=\"text-align: right;\">\n",
       "      <th></th>\n",
       "      <th>VIF</th>\n",
       "      <th>Features</th>\n",
       "    </tr>\n",
       "  </thead>\n",
       "  <tbody>\n",
       "    <tr>\n",
       "      <th>0</th>\n",
       "      <td>9.261966</td>\n",
       "      <td>GDPperHead</td>\n",
       "    </tr>\n",
       "    <tr>\n",
       "      <th>1</th>\n",
       "      <td>2.388989</td>\n",
       "      <td>Population</td>\n",
       "    </tr>\n",
       "    <tr>\n",
       "      <th>2</th>\n",
       "      <td>17.860313</td>\n",
       "      <td>EducationSpending</td>\n",
       "    </tr>\n",
       "    <tr>\n",
       "      <th>3</th>\n",
       "      <td>7.270640</td>\n",
       "      <td>UnemploymentRate</td>\n",
       "    </tr>\n",
       "  </tbody>\n",
       "</table>\n",
       "</div>"
      ],
      "text/plain": [
       "         VIF           Features\n",
       "0   9.261966         GDPperHead\n",
       "1   2.388989         Population\n",
       "2  17.860313  EducationSpending\n",
       "3   7.270640   UnemploymentRate"
      ]
     },
     "execution_count": 12,
     "metadata": {},
     "output_type": "execute_result"
    }
   ],
   "source": [
    "from statsmodels.stats.outliers_influence import variance_inflation_factor\n",
    "variables = df[['GDPperHead', 'Population', 'EducationSpending', 'UnemploymentRate']]\n",
    "vif = pd.DataFrame()\n",
    "vif['VIF'] =[variance_inflation_factor(variables.values, i) for i in range(variables.shape[1])]\n",
    "vif['Features']=variables.columns\n",
    "vif #Report"
   ]
  },
  {
   "cell_type": "code",
   "execution_count": 13,
   "metadata": {},
   "outputs": [
    {
     "data": {
      "text/html": [
       "<div>\n",
       "<style scoped>\n",
       "    .dataframe tbody tr th:only-of-type {\n",
       "        vertical-align: middle;\n",
       "    }\n",
       "\n",
       "    .dataframe tbody tr th {\n",
       "        vertical-align: top;\n",
       "    }\n",
       "\n",
       "    .dataframe thead th {\n",
       "        text-align: right;\n",
       "    }\n",
       "</style>\n",
       "<table border=\"1\" class=\"dataframe\">\n",
       "  <thead>\n",
       "    <tr style=\"text-align: right;\">\n",
       "      <th></th>\n",
       "      <th>VIF</th>\n",
       "      <th>Features</th>\n",
       "    </tr>\n",
       "  </thead>\n",
       "  <tbody>\n",
       "    <tr>\n",
       "      <th>0</th>\n",
       "      <td>2.386044</td>\n",
       "      <td>GDPperHead</td>\n",
       "    </tr>\n",
       "    <tr>\n",
       "      <th>1</th>\n",
       "      <td>2.332715</td>\n",
       "      <td>Population</td>\n",
       "    </tr>\n",
       "    <tr>\n",
       "      <th>2</th>\n",
       "      <td>3.582835</td>\n",
       "      <td>UnemploymentRate</td>\n",
       "    </tr>\n",
       "  </tbody>\n",
       "</table>\n",
       "</div>"
      ],
      "text/plain": [
       "        VIF          Features\n",
       "0  2.386044        GDPperHead\n",
       "1  2.332715        Population\n",
       "2  3.582835  UnemploymentRate"
      ]
     },
     "execution_count": 13,
     "metadata": {},
     "output_type": "execute_result"
    }
   ],
   "source": [
    "from statsmodels.stats.outliers_influence import variance_inflation_factor\n",
    "variables = df[['GDPperHead', 'Population', 'UnemploymentRate']]\n",
    "vif = pd.DataFrame()\n",
    "vif['VIF'] =[variance_inflation_factor(variables.values, i) for i in range(variables.shape[1])]\n",
    "vif['Features']=variables.columns\n",
    "vif #Report"
   ]
  },
  {
   "cell_type": "markdown",
   "metadata": {},
   "source": [
    "# Predict SalesPerCapita"
   ]
  },
  {
   "cell_type": "code",
   "execution_count": 14,
   "metadata": {},
   "outputs": [],
   "source": [
    "# Linearity Check"
   ]
  },
  {
   "cell_type": "code",
   "execution_count": 15,
   "metadata": {},
   "outputs": [
    {
     "data": {
      "text/plain": [
       "<AxesSubplot:xlabel='SalesPerCapita', ylabel='EducationSpending'>"
      ]
     },
     "execution_count": 15,
     "metadata": {},
     "output_type": "execute_result"
    },
    {
     "data": {
      "image/png": "[encoded data removed]",
      "text/plain": [
       "<Figure size 864x864 with 4 Axes>"
      ]
     },
     "metadata": {
      "needs_background": "light"
     },
     "output_type": "display_data"
    }
   ],
   "source": [
    "plt.figure(figsize = (12,12))\n",
    "\n",
    "plt.subplot(2,2,1)\n",
    "sns.scatterplot(data = df, x = 'SalesPerCapita', y = 'Population')\n",
    "\n",
    "plt.subplot(2,2,2)\n",
    "sns.scatterplot(data = df, x = 'SalesPerCapita', y = 'GDPperHead', color = 'purple')\n",
    "\n",
    "plt.subplot(2,2,3)\n",
    "sns.scatterplot(data = df, x = 'SalesPerCapita', y = 'UnemploymentRate', color = 'r')\n",
    "\n",
    "plt.subplot(2,2,4)\n",
    "sns.scatterplot(data = df, x = 'SalesPerCapita', y = 'EducationSpending', color = 'g')"
   ]
  },
  {
   "cell_type": "code",
   "execution_count": 16,
   "metadata": {},
   "outputs": [],
   "source": [
    "X = df['GDPperHead'].values\n",
    "y = df['SalesPerCapita'].values"
   ]
  },
  {
   "cell_type": "code",
   "execution_count": 17,
   "metadata": {},
   "outputs": [],
   "source": [
    "from sklearn.model_selection import train_test_split\n",
    "X_train, X_test, y_train, y_test = train_test_split(X, y, test_size=0.15, random_state = 0)"
   ]
  },
  {
   "cell_type": "code",
   "execution_count": 18,
   "metadata": {},
   "outputs": [],
   "source": [
    "from sklearn.preprocessing import StandardScaler\n",
    "scaler = StandardScaler()\n",
    "X_train = scaler.fit_transform(np.reshape(X_train, (17,-1)))\n",
    "X_test = scaler.transform(np.reshape(X_test, (4,-1)))"
   ]
  },
  {
   "cell_type": "code",
   "execution_count": 19,
   "metadata": {},
   "outputs": [
    {
     "data": {
      "text/plain": [
       "LinearRegression()"
      ]
     },
     "execution_count": 19,
     "metadata": {},
     "output_type": "execute_result"
    }
   ],
   "source": [
    "from sklearn.linear_model import LinearRegression\n",
    "regressor = LinearRegression()\n",
    "regressor.fit(X_train,y_train)"
   ]
  },
  {
   "cell_type": "code",
   "execution_count": 20,
   "metadata": {},
   "outputs": [],
   "source": [
    "predictions = regressor.predict(X_test)"
   ]
  },
  {
   "cell_type": "code",
   "execution_count": 21,
   "metadata": {},
   "outputs": [],
   "source": [
    "test = pd.DataFrame()\n",
    "test['TrueValues'] = y_test\n",
    "test['Predictions'] = predictions"
   ]
  },
  {
   "cell_type": "code",
   "execution_count": 22,
   "metadata": {},
   "outputs": [
    {
     "name": "stdout",
     "output_type": "stream",
     "text": [
      "median \t 26.518021090684492\n",
      "count     4.000000\n",
      "mean     25.272167\n",
      "std      11.970653\n",
      "min      11.626822\n",
      "25%      17.078808\n",
      "50%      26.518021\n",
      "75%      34.711380\n",
      "max      36.425802\n",
      "Name: Error(%), dtype: float64\n"
     ]
    }
   ],
   "source": [
    "percentage_error(test, 'Predictions', 'TrueValues')"
   ]
  },
  {
   "cell_type": "code",
   "execution_count": 23,
   "metadata": {},
   "outputs": [
    {
     "data": {
      "text/html": [
       "<div>\n",
       "<style scoped>\n",
       "    .dataframe tbody tr th:only-of-type {\n",
       "        vertical-align: middle;\n",
       "    }\n",
       "\n",
       "    .dataframe tbody tr th {\n",
       "        vertical-align: top;\n",
       "    }\n",
       "\n",
       "    .dataframe thead th {\n",
       "        text-align: right;\n",
       "    }\n",
       "</style>\n",
       "<table border=\"1\" class=\"dataframe\">\n",
       "  <thead>\n",
       "    <tr style=\"text-align: right;\">\n",
       "      <th></th>\n",
       "      <th>TrueValues</th>\n",
       "      <th>Predictions</th>\n",
       "      <th>Error(%)</th>\n",
       "    </tr>\n",
       "  </thead>\n",
       "  <tbody>\n",
       "    <tr>\n",
       "      <th>0</th>\n",
       "      <td>73</td>\n",
       "      <td>97.922131</td>\n",
       "      <td>34.139906</td>\n",
       "    </tr>\n",
       "    <tr>\n",
       "      <th>1</th>\n",
       "      <td>75</td>\n",
       "      <td>47.680649</td>\n",
       "      <td>36.425802</td>\n",
       "    </tr>\n",
       "    <tr>\n",
       "      <th>2</th>\n",
       "      <td>162</td>\n",
       "      <td>131.388259</td>\n",
       "      <td>18.896136</td>\n",
       "    </tr>\n",
       "    <tr>\n",
       "      <th>3</th>\n",
       "      <td>160</td>\n",
       "      <td>141.397085</td>\n",
       "      <td>11.626822</td>\n",
       "    </tr>\n",
       "  </tbody>\n",
       "</table>\n",
       "</div>"
      ],
      "text/plain": [
       "   TrueValues  Predictions   Error(%)\n",
       "0          73    97.922131  34.139906\n",
       "1          75    47.680649  36.425802\n",
       "2         162   131.388259  18.896136\n",
       "3         160   141.397085  11.626822"
      ]
     },
     "execution_count": 23,
     "metadata": {},
     "output_type": "execute_result"
    }
   ],
   "source": [
    "test"
   ]
  },
  {
   "cell_type": "code",
   "execution_count": 24,
   "metadata": {},
   "outputs": [
    {
     "data": {
      "text/plain": [
       "[<matplotlib.lines.Line2D at 0x1c121809518>]"
      ]
     },
     "execution_count": 24,
     "metadata": {},
     "output_type": "execute_result"
    },
    {
     "data": {
      "image/png": "[encoded data removed]",
      "text/plain": [
       "<Figure size 936x432 with 2 Axes>"
      ]
     },
     "metadata": {
      "needs_background": "light"
     },
     "output_type": "display_data"
    }
   ],
   "source": [
    "plt.figure(figsize =(13,6))\n",
    "\n",
    "plt.subplot(1,2,1)\n",
    "sns.distplot(test['Error(%)'], color = 'r')\n",
    "\n",
    "plt.subplot(1,2,2)\n",
    "plt.scatter(test['TrueValues'], test['Predictions'], color='#9be0df')\n",
    "plt.plot(test['TrueValues'],test['TrueValues'],'green')"
   ]
  },
  {
   "cell_type": "code",
   "execution_count": 25,
   "metadata": {},
   "outputs": [],
   "source": [
    "# R-Squared, Adjusted R-Squared, Explained Variance Score"
   ]
  },
  {
   "cell_type": "code",
   "execution_count": 26,
   "metadata": {},
   "outputs": [],
   "source": [
    "from sklearn.metrics import (mean_absolute_error, r2_score, explained_variance_score, \n",
    "                             median_absolute_error, mean_squared_error)"
   ]
  },
  {
   "cell_type": "code",
   "execution_count": 27,
   "metadata": {},
   "outputs": [],
   "source": [
    "metric_names = ['R2', 'R2-Adjusted', 'ExplainedVarianceScore', 'MeanAbsoluteError', \n",
    "                'MedianAbsoluteError', 'RootMeanSquaredError']\n",
    "metric_values = [r2_score(y_test,predictions), adjusted_r_squared(r2_score(y_test,predictions), df),\n",
    "                explained_variance_score(y_test,predictions), mean_absolute_error(y_test,predictions),\n",
    "                median_absolute_error(y_test,predictions), np.sqrt(mean_squared_error(y_test,predictions))]\n",
    "\n",
    "metrics = pd.DataFrame({'Metrics': metric_names, 'Values': metric_values})"
   ]
  },
  {
   "cell_type": "code",
   "execution_count": 28,
   "metadata": {
    "scrolled": true
   },
   "outputs": [
    {
     "data": {
      "text/html": [
       "<div>\n",
       "<style scoped>\n",
       "    .dataframe tbody tr th:only-of-type {\n",
       "        vertical-align: middle;\n",
       "    }\n",
       "\n",
       "    .dataframe tbody tr th {\n",
       "        vertical-align: top;\n",
       "    }\n",
       "\n",
       "    .dataframe thead th {\n",
       "        text-align: right;\n",
       "    }\n",
       "</style>\n",
       "<table border=\"1\" class=\"dataframe\">\n",
       "  <thead>\n",
       "    <tr style=\"text-align: right;\">\n",
       "      <th></th>\n",
       "      <th>Metrics</th>\n",
       "      <th>Values</th>\n",
       "    </tr>\n",
       "  </thead>\n",
       "  <tbody>\n",
       "    <tr>\n",
       "      <th>0</th>\n",
       "      <td>R2</td>\n",
       "      <td>0.649993</td>\n",
       "    </tr>\n",
       "    <tr>\n",
       "      <th>1</th>\n",
       "      <td>R2-Adjusted</td>\n",
       "      <td>0.461527</td>\n",
       "    </tr>\n",
       "    <tr>\n",
       "      <th>2</th>\n",
       "      <td>ExplainedVarianceScore</td>\n",
       "      <td>0.737929</td>\n",
       "    </tr>\n",
       "    <tr>\n",
       "      <th>3</th>\n",
       "      <td>MeanAbsoluteError</td>\n",
       "      <td>25.364035</td>\n",
       "    </tr>\n",
       "    <tr>\n",
       "      <th>4</th>\n",
       "      <td>MedianAbsoluteError</td>\n",
       "      <td>26.120741</td>\n",
       "    </tr>\n",
       "    <tr>\n",
       "      <th>5</th>\n",
       "      <td>RootMeanSquaredError</td>\n",
       "      <td>25.742022</td>\n",
       "    </tr>\n",
       "  </tbody>\n",
       "</table>\n",
       "</div>"
      ],
      "text/plain": [
       "                  Metrics     Values\n",
       "0                      R2   0.649993\n",
       "1             R2-Adjusted   0.461527\n",
       "2  ExplainedVarianceScore   0.737929\n",
       "3       MeanAbsoluteError  25.364035\n",
       "4     MedianAbsoluteError  26.120741\n",
       "5    RootMeanSquaredError  25.742022"
      ]
     },
     "execution_count": 28,
     "metadata": {},
     "output_type": "execute_result"
    }
   ],
   "source": [
    "metrics"
   ]
  },
  {
   "cell_type": "code",
   "execution_count": 29,
   "metadata": {},
   "outputs": [
    {
     "data": {
      "text/html": [
       "<div>\n",
       "<style scoped>\n",
       "    .dataframe tbody tr th:only-of-type {\n",
       "        vertical-align: middle;\n",
       "    }\n",
       "\n",
       "    .dataframe tbody tr th {\n",
       "        vertical-align: top;\n",
       "    }\n",
       "\n",
       "    .dataframe thead th {\n",
       "        text-align: right;\n",
       "    }\n",
       "</style>\n",
       "<table border=\"1\" class=\"dataframe\">\n",
       "  <thead>\n",
       "    <tr style=\"text-align: right;\">\n",
       "      <th></th>\n",
       "      <th>Population</th>\n",
       "      <th>GDPperHead</th>\n",
       "      <th>UnemploymentRate</th>\n",
       "      <th>EducationSpending</th>\n",
       "      <th>SalesPerCapita</th>\n",
       "      <th>ComputerSales</th>\n",
       "    </tr>\n",
       "  </thead>\n",
       "  <tbody>\n",
       "    <tr>\n",
       "      <th>count</th>\n",
       "      <td>21.000000</td>\n",
       "      <td>21.000000</td>\n",
       "      <td>21.000000</td>\n",
       "      <td>21.000000</td>\n",
       "      <td>21.000000</td>\n",
       "      <td>21.000000</td>\n",
       "    </tr>\n",
       "    <tr>\n",
       "      <th>mean</th>\n",
       "      <td>26.723810</td>\n",
       "      <td>36.973810</td>\n",
       "      <td>8.100000</td>\n",
       "      <td>5.180952</td>\n",
       "      <td>115.333333</td>\n",
       "      <td>2492.809524</td>\n",
       "    </tr>\n",
       "    <tr>\n",
       "      <th>std</th>\n",
       "      <td>26.128929</td>\n",
       "      <td>18.654496</td>\n",
       "      <td>3.122979</td>\n",
       "      <td>1.269889</td>\n",
       "      <td>78.970459</td>\n",
       "      <td>2499.807965</td>\n",
       "    </tr>\n",
       "    <tr>\n",
       "      <th>min</th>\n",
       "      <td>4.400000</td>\n",
       "      <td>6.550000</td>\n",
       "      <td>3.600000</td>\n",
       "      <td>3.300000</td>\n",
       "      <td>20.000000</td>\n",
       "      <td>154.000000</td>\n",
       "    </tr>\n",
       "    <tr>\n",
       "      <th>25%</th>\n",
       "      <td>8.400000</td>\n",
       "      <td>20.670000</td>\n",
       "      <td>6.300000</td>\n",
       "      <td>4.400000</td>\n",
       "      <td>68.000000</td>\n",
       "      <td>813.000000</td>\n",
       "    </tr>\n",
       "    <tr>\n",
       "      <th>50%</th>\n",
       "      <td>10.700000</td>\n",
       "      <td>43.540000</td>\n",
       "      <td>7.300000</td>\n",
       "      <td>5.000000</td>\n",
       "      <td>101.000000</td>\n",
       "      <td>1682.000000</td>\n",
       "    </tr>\n",
       "    <tr>\n",
       "      <th>75%</th>\n",
       "      <td>44.800000</td>\n",
       "      <td>51.320000</td>\n",
       "      <td>9.900000</td>\n",
       "      <td>5.800000</td>\n",
       "      <td>151.000000</td>\n",
       "      <td>2879.000000</td>\n",
       "    </tr>\n",
       "    <tr>\n",
       "      <th>max</th>\n",
       "      <td>82.500000</td>\n",
       "      <td>64.430000</td>\n",
       "      <td>14.400000</td>\n",
       "      <td>8.400000</td>\n",
       "      <td>372.000000</td>\n",
       "      <td>9887.000000</td>\n",
       "    </tr>\n",
       "  </tbody>\n",
       "</table>\n",
       "</div>"
      ],
      "text/plain": [
       "       Population  GDPperHead  UnemploymentRate  EducationSpending  \\\n",
       "count   21.000000   21.000000         21.000000          21.000000   \n",
       "mean    26.723810   36.973810          8.100000           5.180952   \n",
       "std     26.128929   18.654496          3.122979           1.269889   \n",
       "min      4.400000    6.550000          3.600000           3.300000   \n",
       "25%      8.400000   20.670000          6.300000           4.400000   \n",
       "50%     10.700000   43.540000          7.300000           5.000000   \n",
       "75%     44.800000   51.320000          9.900000           5.800000   \n",
       "max     82.500000   64.430000         14.400000           8.400000   \n",
       "\n",
       "       SalesPerCapita  ComputerSales  \n",
       "count       21.000000      21.000000  \n",
       "mean       115.333333    2492.809524  \n",
       "std         78.970459    2499.807965  \n",
       "min         20.000000     154.000000  \n",
       "25%         68.000000     813.000000  \n",
       "50%        101.000000    1682.000000  \n",
       "75%        151.000000    2879.000000  \n",
       "max        372.000000    9887.000000  "
      ]
     },
     "execution_count": 29,
     "metadata": {},
     "output_type": "execute_result"
    }
   ],
   "source": [
    "df.describe()"
   ]
  },
  {
   "cell_type": "markdown",
   "metadata": {},
   "source": [
    "# Predict ComputerSales"
   ]
  },
  {
   "cell_type": "code",
   "execution_count": 30,
   "metadata": {},
   "outputs": [],
   "source": [
    "# Linearity Check"
   ]
  },
  {
   "cell_type": "code",
   "execution_count": 31,
   "metadata": {},
   "outputs": [
    {
     "data": {
      "text/plain": [
       "<AxesSubplot:xlabel='ComputerSales', ylabel='EducationSpending'>"
      ]
     },
     "execution_count": 31,
     "metadata": {},
     "output_type": "execute_result"
    },
    {
     "data": {
      "image/png": "[encoded data removed]",
      "text/plain": [
       "<Figure size 864x864 with 4 Axes>"
      ]
     },
     "metadata": {
      "needs_background": "light"
     },
     "output_type": "display_data"
    }
   ],
   "source": [
    "plt.figure(figsize = (12,12))\n",
    "\n",
    "plt.subplot(2,2,1)\n",
    "sns.scatterplot(data = df, x = 'ComputerSales', y = 'Population')\n",
    "\n",
    "plt.subplot(2,2,2)\n",
    "sns.scatterplot(data = df, x = 'ComputerSales', y = 'GDPperHead', color = 'purple')\n",
    "\n",
    "plt.subplot(2,2,3)\n",
    "sns.scatterplot(data = df, x = 'ComputerSales', y = 'UnemploymentRate', color = 'r')\n",
    "\n",
    "plt.subplot(2,2,4)\n",
    "sns.scatterplot(data = df, x = 'ComputerSales', y = 'EducationSpending', color = 'g')"
   ]
  },
  {
   "cell_type": "code",
   "execution_count": 32,
   "metadata": {},
   "outputs": [],
   "source": [
    "X = df[['Population', 'GDPperHead']].values\n",
    "y = df['ComputerSales'].values"
   ]
  },
  {
   "cell_type": "code",
   "execution_count": 33,
   "metadata": {},
   "outputs": [],
   "source": [
    "from sklearn.model_selection import train_test_split\n",
    "X_train, X_test, y_train, y_test = train_test_split(X, y, test_size=0.15, random_state = 0)"
   ]
  },
  {
   "cell_type": "code",
   "execution_count": 34,
   "metadata": {},
   "outputs": [],
   "source": [
    "from sklearn.preprocessing import StandardScaler\n",
    "scaler = StandardScaler()\n",
    "X_train = scaler.fit_transform(np.reshape(X_train, (17,-1)))\n",
    "X_test = scaler.transform(np.reshape(X_test, (4,-1)))"
   ]
  },
  {
   "cell_type": "code",
   "execution_count": 35,
   "metadata": {},
   "outputs": [
    {
     "data": {
      "text/plain": [
       "LinearRegression()"
      ]
     },
     "execution_count": 35,
     "metadata": {},
     "output_type": "execute_result"
    }
   ],
   "source": [
    "from sklearn.linear_model import LinearRegression\n",
    "regressor = LinearRegression()\n",
    "regressor.fit(X_train,y_train)"
   ]
  },
  {
   "cell_type": "code",
   "execution_count": 36,
   "metadata": {},
   "outputs": [],
   "source": [
    "predictions = regressor.predict(X_test)"
   ]
  },
  {
   "cell_type": "code",
   "execution_count": 37,
   "metadata": {},
   "outputs": [],
   "source": [
    "test = pd.DataFrame()\n",
    "test['TrueValues'] = y_test\n",
    "test['Predictions'] = predictions"
   ]
  },
  {
   "cell_type": "code",
   "execution_count": 38,
   "metadata": {},
   "outputs": [
    {
     "name": "stdout",
     "output_type": "stream",
     "text": [
      "median \t 21.34990327777139\n",
      "count     4.000000\n",
      "mean     27.023630\n",
      "std      16.853329\n",
      "min      13.727784\n",
      "25%      18.431166\n",
      "50%      21.349903\n",
      "75%      29.942367\n",
      "max      51.666928\n",
      "Name: Error(%), dtype: float64\n"
     ]
    }
   ],
   "source": [
    "percentage_error(test, 'Predictions', 'TrueValues')"
   ]
  },
  {
   "cell_type": "code",
   "execution_count": 39,
   "metadata": {},
   "outputs": [
    {
     "data": {
      "text/html": [
       "<div>\n",
       "<style scoped>\n",
       "    .dataframe tbody tr th:only-of-type {\n",
       "        vertical-align: middle;\n",
       "    }\n",
       "\n",
       "    .dataframe tbody tr th {\n",
       "        vertical-align: top;\n",
       "    }\n",
       "\n",
       "    .dataframe thead th {\n",
       "        text-align: right;\n",
       "    }\n",
       "</style>\n",
       "<table border=\"1\" class=\"dataframe\">\n",
       "  <thead>\n",
       "    <tr style=\"text-align: right;\">\n",
       "      <th></th>\n",
       "      <th>TrueValues</th>\n",
       "      <th>Predictions</th>\n",
       "      <th>Error(%)</th>\n",
       "    </tr>\n",
       "  </thead>\n",
       "  <tbody>\n",
       "    <tr>\n",
       "      <th>0</th>\n",
       "      <td>813</td>\n",
       "      <td>975.591542</td>\n",
       "      <td>19.998960</td>\n",
       "    </tr>\n",
       "    <tr>\n",
       "      <th>1</th>\n",
       "      <td>2847</td>\n",
       "      <td>2200.706887</td>\n",
       "      <td>22.700847</td>\n",
       "    </tr>\n",
       "    <tr>\n",
       "      <th>2</th>\n",
       "      <td>9887</td>\n",
       "      <td>4778.690818</td>\n",
       "      <td>51.666928</td>\n",
       "    </tr>\n",
       "    <tr>\n",
       "      <th>3</th>\n",
       "      <td>1682</td>\n",
       "      <td>1451.098674</td>\n",
       "      <td>13.727784</td>\n",
       "    </tr>\n",
       "  </tbody>\n",
       "</table>\n",
       "</div>"
      ],
      "text/plain": [
       "   TrueValues  Predictions   Error(%)\n",
       "0         813   975.591542  19.998960\n",
       "1        2847  2200.706887  22.700847\n",
       "2        9887  4778.690818  51.666928\n",
       "3        1682  1451.098674  13.727784"
      ]
     },
     "execution_count": 39,
     "metadata": {},
     "output_type": "execute_result"
    }
   ],
   "source": [
    "test"
   ]
  },
  {
   "cell_type": "code",
   "execution_count": 40,
   "metadata": {},
   "outputs": [
    {
     "data": {
      "text/plain": [
       "[<matplotlib.lines.Line2D at 0x1c122b50ba8>]"
      ]
     },
     "execution_count": 40,
     "metadata": {},
     "output_type": "execute_result"
    },
    {
     "data": {
      "image/png": "[encoded data removed]",
      "text/plain": [
       "<Figure size 936x432 with 2 Axes>"
      ]
     },
     "metadata": {
      "needs_background": "light"
     },
     "output_type": "display_data"
    }
   ],
   "source": [
    "plt.figure(figsize =(13,6))\n",
    "\n",
    "plt.subplot(1,2,1)\n",
    "sns.distplot(test['Error(%)'], color = 'r')\n",
    "\n",
    "plt.subplot(1,2,2)\n",
    "plt.scatter(test['TrueValues'], test['Predictions'], color='#9be0df')\n",
    "plt.plot(test['TrueValues'],test['TrueValues'],'green')"
   ]
  },
  {
   "cell_type": "code",
   "execution_count": 41,
   "metadata": {},
   "outputs": [],
   "source": [
    "# R-Squared, Adjusted R-Squared, Explained Variance Score"
   ]
  },
  {
   "cell_type": "code",
   "execution_count": 42,
   "metadata": {},
   "outputs": [],
   "source": [
    "from sklearn.metrics import (mean_absolute_error, r2_score, explained_variance_score, \n",
    "                             median_absolute_error, mean_squared_error)"
   ]
  },
  {
   "cell_type": "code",
   "execution_count": 43,
   "metadata": {},
   "outputs": [],
   "source": [
    "metric_names = ['R2', 'R2-Adjusted', 'ExplainedVarianceScore', 'MeanAbsoluteError', \n",
    "                'MedianAbsoluteError', 'RootMeanSquaredError']\n",
    "metric_values = [r2_score(y_test,predictions), adjusted_r_squared(r2_score(y_test,predictions), df),\n",
    "                explained_variance_score(y_test,predictions), mean_absolute_error(y_test,predictions),\n",
    "                median_absolute_error(y_test,predictions), np.sqrt(mean_squared_error(y_test,predictions))]\n",
    "\n",
    "metrics = pd.DataFrame({'Metrics': metric_names, 'Values': metric_values})"
   ]
  },
  {
   "cell_type": "code",
   "execution_count": 44,
   "metadata": {},
   "outputs": [
    {
     "data": {
      "text/html": [
       "<div>\n",
       "<style scoped>\n",
       "    .dataframe tbody tr th:only-of-type {\n",
       "        vertical-align: middle;\n",
       "    }\n",
       "\n",
       "    .dataframe tbody tr th {\n",
       "        vertical-align: top;\n",
       "    }\n",
       "\n",
       "    .dataframe thead th {\n",
       "        text-align: right;\n",
       "    }\n",
       "</style>\n",
       "<table border=\"1\" class=\"dataframe\">\n",
       "  <thead>\n",
       "    <tr style=\"text-align: right;\">\n",
       "      <th></th>\n",
       "      <th>Metrics</th>\n",
       "      <th>Values</th>\n",
       "    </tr>\n",
       "  </thead>\n",
       "  <tbody>\n",
       "    <tr>\n",
       "      <th>0</th>\n",
       "      <td>R2</td>\n",
       "      <td>0.482315</td>\n",
       "    </tr>\n",
       "    <tr>\n",
       "      <th>1</th>\n",
       "      <td>R2-Adjusted</td>\n",
       "      <td>0.203561</td>\n",
       "    </tr>\n",
       "    <tr>\n",
       "      <th>2</th>\n",
       "      <td>ExplainedVarianceScore</td>\n",
       "      <td>0.647333</td>\n",
       "    </tr>\n",
       "    <tr>\n",
       "      <th>3</th>\n",
       "      <td>MeanAbsoluteError</td>\n",
       "      <td>1537.023791</td>\n",
       "    </tr>\n",
       "    <tr>\n",
       "      <th>4</th>\n",
       "      <td>MedianAbsoluteError</td>\n",
       "      <td>438.597219</td>\n",
       "    </tr>\n",
       "    <tr>\n",
       "      <th>5</th>\n",
       "      <td>RootMeanSquaredError</td>\n",
       "      <td>2578.384616</td>\n",
       "    </tr>\n",
       "  </tbody>\n",
       "</table>\n",
       "</div>"
      ],
      "text/plain": [
       "                  Metrics       Values\n",
       "0                      R2     0.482315\n",
       "1             R2-Adjusted     0.203561\n",
       "2  ExplainedVarianceScore     0.647333\n",
       "3       MeanAbsoluteError  1537.023791\n",
       "4     MedianAbsoluteError   438.597219\n",
       "5    RootMeanSquaredError  2578.384616"
      ]
     },
     "execution_count": 44,
     "metadata": {},
     "output_type": "execute_result"
    }
   ],
   "source": [
    "metrics"
   ]
  },
  {
   "cell_type": "code",
   "execution_count": 45,
   "metadata": {},
   "outputs": [
    {
     "data": {
      "text/html": [
       "<div>\n",
       "<style scoped>\n",
       "    .dataframe tbody tr th:only-of-type {\n",
       "        vertical-align: middle;\n",
       "    }\n",
       "\n",
       "    .dataframe tbody tr th {\n",
       "        vertical-align: top;\n",
       "    }\n",
       "\n",
       "    .dataframe thead th {\n",
       "        text-align: right;\n",
       "    }\n",
       "</style>\n",
       "<table border=\"1\" class=\"dataframe\">\n",
       "  <thead>\n",
       "    <tr style=\"text-align: right;\">\n",
       "      <th></th>\n",
       "      <th>Population</th>\n",
       "      <th>GDPperHead</th>\n",
       "      <th>UnemploymentRate</th>\n",
       "      <th>EducationSpending</th>\n",
       "      <th>SalesPerCapita</th>\n",
       "      <th>ComputerSales</th>\n",
       "    </tr>\n",
       "  </thead>\n",
       "  <tbody>\n",
       "    <tr>\n",
       "      <th>count</th>\n",
       "      <td>21.000000</td>\n",
       "      <td>21.000000</td>\n",
       "      <td>21.000000</td>\n",
       "      <td>21.000000</td>\n",
       "      <td>21.000000</td>\n",
       "      <td>21.000000</td>\n",
       "    </tr>\n",
       "    <tr>\n",
       "      <th>mean</th>\n",
       "      <td>26.723810</td>\n",
       "      <td>36.973810</td>\n",
       "      <td>8.100000</td>\n",
       "      <td>5.180952</td>\n",
       "      <td>115.333333</td>\n",
       "      <td>2492.809524</td>\n",
       "    </tr>\n",
       "    <tr>\n",
       "      <th>std</th>\n",
       "      <td>26.128929</td>\n",
       "      <td>18.654496</td>\n",
       "      <td>3.122979</td>\n",
       "      <td>1.269889</td>\n",
       "      <td>78.970459</td>\n",
       "      <td>2499.807965</td>\n",
       "    </tr>\n",
       "    <tr>\n",
       "      <th>min</th>\n",
       "      <td>4.400000</td>\n",
       "      <td>6.550000</td>\n",
       "      <td>3.600000</td>\n",
       "      <td>3.300000</td>\n",
       "      <td>20.000000</td>\n",
       "      <td>154.000000</td>\n",
       "    </tr>\n",
       "    <tr>\n",
       "      <th>25%</th>\n",
       "      <td>8.400000</td>\n",
       "      <td>20.670000</td>\n",
       "      <td>6.300000</td>\n",
       "      <td>4.400000</td>\n",
       "      <td>68.000000</td>\n",
       "      <td>813.000000</td>\n",
       "    </tr>\n",
       "    <tr>\n",
       "      <th>50%</th>\n",
       "      <td>10.700000</td>\n",
       "      <td>43.540000</td>\n",
       "      <td>7.300000</td>\n",
       "      <td>5.000000</td>\n",
       "      <td>101.000000</td>\n",
       "      <td>1682.000000</td>\n",
       "    </tr>\n",
       "    <tr>\n",
       "      <th>75%</th>\n",
       "      <td>44.800000</td>\n",
       "      <td>51.320000</td>\n",
       "      <td>9.900000</td>\n",
       "      <td>5.800000</td>\n",
       "      <td>151.000000</td>\n",
       "      <td>2879.000000</td>\n",
       "    </tr>\n",
       "    <tr>\n",
       "      <th>max</th>\n",
       "      <td>82.500000</td>\n",
       "      <td>64.430000</td>\n",
       "      <td>14.400000</td>\n",
       "      <td>8.400000</td>\n",
       "      <td>372.000000</td>\n",
       "      <td>9887.000000</td>\n",
       "    </tr>\n",
       "  </tbody>\n",
       "</table>\n",
       "</div>"
      ],
      "text/plain": [
       "       Population  GDPperHead  UnemploymentRate  EducationSpending  \\\n",
       "count   21.000000   21.000000         21.000000          21.000000   \n",
       "mean    26.723810   36.973810          8.100000           5.180952   \n",
       "std     26.128929   18.654496          3.122979           1.269889   \n",
       "min      4.400000    6.550000          3.600000           3.300000   \n",
       "25%      8.400000   20.670000          6.300000           4.400000   \n",
       "50%     10.700000   43.540000          7.300000           5.000000   \n",
       "75%     44.800000   51.320000          9.900000           5.800000   \n",
       "max     82.500000   64.430000         14.400000           8.400000   \n",
       "\n",
       "       SalesPerCapita  ComputerSales  \n",
       "count       21.000000      21.000000  \n",
       "mean       115.333333    2492.809524  \n",
       "std         78.970459    2499.807965  \n",
       "min         20.000000     154.000000  \n",
       "25%         68.000000     813.000000  \n",
       "50%        101.000000    1682.000000  \n",
       "75%        151.000000    2879.000000  \n",
       "max        372.000000    9887.000000  "
      ]
     },
     "execution_count": 45,
     "metadata": {},
     "output_type": "execute_result"
    }
   ],
   "source": [
    "df.describe()"
   ]
  },
  {
   "cell_type": "code",
   "execution_count": null,
   "metadata": {},
   "outputs": [],
   "source": []
  }
 ],
 "metadata": {
  "kernelspec": {
   "display_name": "Python 3",
   "language": "python",
   "name": "python3"
  },
  "language_info": {
   "codemirror_mode": {
    "name": "ipython",
    "version": 3
   },
   "file_extension": ".py",
   "mimetype": "text/x-python",
   "name": "python",
   "nbconvert_exporter": "python",
   "pygments_lexer": "ipython3",
   "version": "3.7.3"
  }
 },
 "nbformat": 4,
 "nbformat_minor": 4
}
